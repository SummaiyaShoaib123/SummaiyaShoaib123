{
 "cells": [
  {
   "cell_type": "code",
   "execution_count": 46,
   "id": "4c281449-2050-434d-b990-8fbeacae0427",
   "metadata": {},
   "outputs": [],
   "source": [
    "rest_name=\"Culinary Haven\""
   ]
  },
  {
   "cell_type": "code",
   "execution_count": 47,
   "id": "8cc514a8-b73e-45df-97af-9c362547d39d",
   "metadata": {},
   "outputs": [],
   "source": [
    "menu=menu= {\n",
    "    \"SKU1\": {\"name\": \"Classic Burger\", \"price\": 9.99},\n",
    "    \"SKU2\": {\"name\": \"Margherita Pizza\", \"price\": 12.50},\n",
    "    \"SKU3\": {\"name\": \"Chicken Alfredo Pasta\", \"price\": 15.99},\n",
    "    \"SKU4\": {\"name\": \"Vegetarian Stir Fry\", \"price\": 11.25},\n",
    "    \"SKU5\": {\"name\": \"Grilled Salmon\", \"price\": 18.75},\n",
    "    \"SKU6\": {\"name\": \"Caesar Salad\", \"price\": 8.99},\n",
    "    \"SKU7\": {\"name\": \"Mushroom Risotto\", \"price\": 14.50},\n",
    "    \"SKU8\": {\"name\": \"BBQ Chicken Sandwich\", \"price\": 10.75},\n",
    "    \"SKU9\": {\"name\": \"Chocolate Fondue\", \"price\": 7.99},\n",
    "    \"SKU10\": {\"name\": \"Mango Tango Smoothie\", \"price\": 4.50},\n",
    "}\n",
    "cart={}\n",
    "actions={\"1\":\"Add item to the cart\",\n",
    "         \"2\":\"Remove item from the cart\",\n",
    "         \"3\":\"Modify item's quantity in the cart\",\n",
    "         \"4\":\"View items in the cart\",\n",
    "         \"5\":\"Checkout\",\n",
    "         \"6\":\"Exit\",\n",
    "        }\n",
    "gst=0.07\n"
   ]
  },
  {
   "cell_type": "code",
   "execution_count": 52,
   "id": "006280dd-09a0-4cf7-a7c1-50d789e1a15d",
   "metadata": {},
   "outputs": [],
   "source": [
    "def display_menu():\n",
    "    \"\"\"Displays all menu item SKUs, names and prices\"\"\"\n",
    "    print('''\\n***\"Culinary Haven\"***\\n''')\n",
    "    for sku in menu:\n",
    "        stock=sku[3:]\n",
    "        name=menu[sku][\"name\"]\n",
    "        price=menu[sku][\"price\"]\n",
    "        \n",
    "        print(f\"({stock}) {name} ${price}\")\n",
    "    print(\"\\n\")\n",
    "    \n"
   ]
  },
  {
   "cell_type": "code",
   "execution_count": 56,
   "id": "de804783-7297-4b18-80fc-fb0a3b6102ca",
   "metadata": {},
   "outputs": [],
   "source": [
    "def add_to_cart(sku,quantity=1):\n",
    "    \"\"\"\n",
    "    Add an item and its quantity to the cart\n",
    "    :param1 string sku:the input sku number being ordered\n",
    "    :param2 int quantity:the input quantity being ordered\n",
    "    \"\"\"\n",
    "    if sku in menu:\n",
    "        if sku not in cart:\n",
    "            cart[sku]=quantity\n",
    "        else:\n",
    "            cart[sku]+=quantity\n",
    "        print(f\"Added {quantity} {menu[sku]['name']} in your cart\")\n",
    "    else:\n",
    "        print(\"Sorry! ordered item is not available in the menu\") \n",
    "        \n"
   ]
  },
  {
   "cell_type": "code",
   "execution_count": 61,
   "id": "78ae4edb-8f23-43ac-9024-9237dcab8976",
   "metadata": {},
   "outputs": [],
   "source": [
    "def remove_from_cart(sku):\n",
    "    \"\"\"\n",
    "    Remove an item from the cart\n",
    "\n",
    "    :param string sku:The input sku number being to remove from the cart\n",
    "    \"\"\"\n",
    "    if sku in cart:\n",
    "        removed_val=cart.pop(sku)\n",
    "        print (f\"Removed {menu[sku]['name']} from the cart\")\n",
    "    else:\n",
    "       print  (f\"Sorry! This item is not available in the cart\")  "
   ]
  },
  {
   "cell_type": "code",
   "execution_count": 64,
   "id": "e972c9ff-35a5-429d-b407-f7dcc2e02d29",
   "metadata": {},
   "outputs": [],
   "source": [
    "def modify_cart(sku,quantity):\n",
    "    \"\"\"\n",
    "    Modify an item's quantity in the cart\n",
    "    \"\"\"\n",
    "    if sku in cart:\n",
    "        if quantity>0:\n",
    "            cart[sku]=quantity\n",
    "            print(f\" Modified {menu[sku]['name']}\\'s quantity to {quantity}\")\n",
    "        else:\n",
    "            remove_from_cart(sku)\n",
    "    else:\n",
    "        print(\"Sorry!This item is not available in the cart\")"
   ]
  },
  {
   "cell_type": "code",
   "execution_count": 68,
   "id": "29a6dd42-0955-4eab-a0ab-5c66b9b2a8a0",
   "metadata": {},
   "outputs": [],
   "source": [
    "def view_cart():\n",
    "    \"Display the menu names, quantity and total amount\"\n",
    "    print(\"\\n***Your Cart***\\n\")\n",
    "    subtotal=0\n",
    "    for sku in cart:\n",
    "        quantity=cart[sku]\n",
    "        price=menu[sku]['price']\n",
    "        \n",
    "        subtotal+=quantity*price\n",
    "\n",
    "        print(f\"{quantity} x {menu[sku]['name']}\")\n",
    "\n",
    "    tax=subtotal*gst\n",
    "\n",
    "    total=subtotal+tax\n",
    "    print(\"\\n\")\n",
    "    print(f\" Total:${total:.2f}\")\n",
    "    print(\"\\n\")\n",
    "\n",
    "        \n",
    "    "
   ]
  },
  {
   "cell_type": "code",
   "execution_count": 70,
   "id": "11b030fe-986e-42d0-a0d8-cc949a2587e0",
   "metadata": {},
   "outputs": [],
   "source": [
    "def checkout():\n",
    "    \"\"\"\n",
    "    Display the sub info total for the user to checkout\n",
    "    \"\"\"\n",
    "    print(\"\\n***Checkout***\\n\")\n",
    "    view_cart()\n",
    "\n",
    "    print(\"Thankyou for ordering! Goodbye!\")\n",
    "    print(\"\\n\")"
   ]
  },
  {
   "cell_type": "code",
   "execution_count": 72,
   "id": "7180d2fe-6e70-49b2-8e8c-33b1d42572b2",
   "metadata": {},
   "outputs": [],
   "source": [
    "def get_sku_and_quantity(sku_prompt,quantity_prompt=None):\n",
    "    sku_num=input(sku_prompt)\n",
    "    sku=\"SKU\"+sku_num\n",
    "\n",
    "    if quantity_prompt:\n",
    "        qty=input(quantity_prompt)\n",
    "        if not qty.isdigit():\n",
    "            qty=1\n",
    "        else:\n",
    "            qty=int(qty)\n",
    "        return sku,qty\n",
    "    else:\n",
    "        return sku\n"
   ]
  },
  {
   "cell_type": "code",
   "execution_count": 73,
   "id": "a4908be8-a49d-4f24-8f50-6c7399be0b28",
   "metadata": {},
   "outputs": [],
   "source": [
    "def cust_actions():\n",
    "    print(\"\\n***Please choose your options***\\n\")\n",
    "    for action in actions:\n",
    "        details=actions[action]\n",
    "        print(f\"({action}) {details}\")"
   ]
  },
  {
   "cell_type": "code",
   "execution_count": 76,
   "id": "eb33a864-4db9-4f1a-93b8-00ec703076f1",
   "metadata": {},
   "outputs": [],
   "source": [
    "def order(): \n",
    "    \n",
    "    \"\"\" \n",
    "    It will take order from customers\n",
    "    \"\"\" \n",
    "    print(f\"Welcome to the {rest_name}!\")\n",
    "\n",
    "    ordering=True\n",
    "    while ordering:\n",
    "        cust_actions()\n",
    "        response=input(\"Please enter the desired option:  \")\n",
    "        if response==\"1\":\n",
    "            display_menu()\n",
    "            sku_prompt=\"Please enter the meal number you want to order\"\n",
    "            quantity_prompt=\"Please enter the quantity for the menu item you want to order[Default 1]:\"\n",
    "            sku,quantity=get_sku_and_quantity(sku_prompt,quantity_prompt)\n",
    "            add_to_cart(sku,quantity)\n",
    "            break\n",
    "        elif response==\"2\":\n",
    "            display_menu()\n",
    "            sku_prompt=\"Please enter the meal number you want to remove\"  \n",
    "            sku=get_sku_and_quantity(sku_prompt)\n",
    "            remove_from_cart(sku)\n",
    "            break   \n",
    "    \n",
    "        elif response==\"3\":\n",
    "            display_menu()\n",
    "            sku_prompt=\"Please enter the meal number you want to modify\"  \n",
    "            quantity_prompt=\"Please enter the quantity for the menu item you want to order[Default 1]:\"\n",
    "            sku,quantity=get_sku_and_quantity(sku_prompt,quantity_prompt)\n",
    "            modify_cart(sku,quantity)\n",
    "            break   \n",
    "        elif response==\"4\":\n",
    "            view_cart()\n",
    "            break\n",
    "        elif response==\"5\":\n",
    "           checkout()\n",
    "           ordering=False\n",
    "            \n",
    "        elif response==\"6\":\n",
    "             print(\"Thanks for coming!\")\n",
    "             ordering=False\n",
    "        else:\n",
    "            print(\"Sorry you have entered the invalid option, Please try again!\")"
   ]
  }
 ],
 "metadata": {
  "kernelspec": {
   "display_name": "Python 3 (ipykernel)",
   "language": "python",
   "name": "python3"
  },
  "language_info": {
   "codemirror_mode": {
    "name": "ipython",
    "version": 3
   },
   "file_extension": ".py",
   "mimetype": "text/x-python",
   "name": "python",
   "nbconvert_exporter": "python",
   "pygments_lexer": "ipython3",
   "version": "3.9.5"
  }
 },
 "nbformat": 4,
 "nbformat_minor": 5
}
